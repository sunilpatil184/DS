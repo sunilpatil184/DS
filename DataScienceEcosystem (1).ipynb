{
 "cells": [
  {
   "cell_type": "markdown",
   "id": "087195e9-61a1-4ee7-9bda-8c07f170935d",
   "metadata": {},
   "source": [
    "Exercise 2: Create markdown cell with title of the notebook"
   ]
  },
  {
   "cell_type": "markdown",
   "id": "600718a2-8961-4b9d-b856-251085dcb509",
   "metadata": {},
   "source": [
    "# Data Science Tools and Ecosystem"
   ]
  },
  {
   "cell_type": "markdown",
   "id": "89ba1e34-66fc-4001-881c-8273e8ec9842",
   "metadata": {},
   "source": [
    "Exercise 3 - Create a markdown cell for an introduction"
   ]
  },
  {
   "cell_type": "markdown",
   "id": "47ac1bf4-3cb8-4bf3-877c-e768c0a0d95b",
   "metadata": {},
   "source": [
    "In this notebook, Data Science Tools and Ecosystem are summarized."
   ]
  },
  {
   "cell_type": "markdown",
   "id": "8ddc43c9-d5c7-4fc3-a734-c4c8a7558632",
   "metadata": {},
   "source": [
    "Exercise 4 - Create a markdown cell to list data science languages"
   ]
  },
  {
   "cell_type": "markdown",
   "id": "acd67252-6ee5-4781-91c2-6e73befd9e86",
   "metadata": {},
   "source": [
    "Some of the popular languages that Data Scientist use are:\n",
    "\n",
    "1.Python\n",
    "2.R\n",
    "3.SQL\n",
    "4.Java etc."
   ]
  },
  {
   "cell_type": "markdown",
   "id": "bad77b04-8f54-48ae-a8a2-dcd95ae03b14",
   "metadata": {},
   "source": [
    "Exercise 5 - Create a markdown cell to list data science libraries"
   ]
  },
  {
   "cell_type": "markdown",
   "id": "b32d0254-fb6b-461e-9a2f-cd2a0e5800c4",
   "metadata": {},
   "source": [
    "Some of the commonly used libraries used by Data Scientists include:\n",
    "\n",
    "1.TensorFlow\n",
    "2.NumPy\n",
    "3.SciPy\n",
    "4.Pandas\n",
    "5.Matplotlib\n",
    "6.Keras\n",
    "7.SciKit-Learn\n",
    "8.PyTorch"
   ]
  },
  {
   "cell_type": "markdown",
   "id": "c4fe4d0e-2826-45f8-a4db-7d2206b33873",
   "metadata": {},
   "source": [
    "Exercise 6 - Create a markdown cell with a table of Data Science tools"
   ]
  },
  {
   "cell_type": "markdown",
   "id": "ac62196c-e8e5-4501-96a3-844f9e90a646",
   "metadata": {},
   "source": [
    "### Below are a few examples of evaluating arithmetic expressions in Python."
   ]
  },
  {
   "cell_type": "markdown",
   "id": "a6207759-7685-4106-839f-534c7d1a2565",
   "metadata": {},
   "source": [
    "|Data Science Tools|\n",
    "|-------------------|\n",
    "|Anaconda|\n",
    "|Jupyter Notebook|\n",
    "|R Studio|\n",
    "|Spyder|\n",
    "|Zeppelin|\n"
   ]
  },
  {
   "cell_type": "markdown",
   "id": "6fd157f5-587e-4da8-bbd9-6606cb4ca6ac",
   "metadata": {},
   "source": [
    "Exercise 7 - Create a markdown cell introducing arithmetic expression examples"
   ]
  },
  {
   "cell_type": "markdown",
   "id": "3d96441a-fa92-4e2b-8e59-9d33cbdc9190",
   "metadata": {},
   "source": [
    "### Below are a few examples of evaluating arithmetic expressions in Python."
   ]
  },
  {
   "cell_type": "markdown",
   "id": "ad2f4545-6050-4a99-9d39-58c2eb0c218c",
   "metadata": {},
   "source": [
    "Exercise 8 - Create a code cell to multiply and add numbers"
   ]
  },
  {
   "cell_type": "code",
   "execution_count": 5,
   "id": "b4e5a84b-7bc7-4193-8469-0ad41fcc48a0",
   "metadata": {},
   "outputs": [
    {
     "data": {
      "text/plain": [
       "17"
      ]
     },
     "execution_count": 5,
     "metadata": {},
     "output_type": "execute_result"
    }
   ],
   "source": [
    "# This a simple arithmetic expression to mutiply then add integers.\n",
    "\n",
    "(3*4)+5"
   ]
  },
  {
   "cell_type": "markdown",
   "id": "4b6f5b5b-a98e-478a-9a9f-bd3fb128e0b8",
   "metadata": {},
   "source": [
    "Exercise 9 - Create a code cell to convert minutes to hours"
   ]
  },
  {
   "cell_type": "code",
   "execution_count": 6,
   "id": "e9848f67-8944-46f6-85dd-d1daad035721",
   "metadata": {},
   "outputs": [
    {
     "data": {
      "text/plain": [
       "3.3333333333333335"
      ]
     },
     "execution_count": 6,
     "metadata": {},
     "output_type": "execute_result"
    }
   ],
   "source": [
    "# This will convert 200 minutes to hours by diving by 60.\n",
    "\n",
    "200/60"
   ]
  },
  {
   "cell_type": "markdown",
   "id": "c5bd6a1f-a6b2-4a54-9429-d9181d027dbd",
   "metadata": {},
   "source": [
    "Exercise 10 - Insert a markdown cell to list Objectives"
   ]
  },
  {
   "cell_type": "markdown",
   "id": "d622c9b3-6d93-48d5-9b0d-226e571004a2",
   "metadata": {},
   "source": [
    "# Objectives"
   ]
  },
  {
   "cell_type": "markdown",
   "id": "a57fc1f1-8d10-4248-a6c4-d11eb2e99c6a",
   "metadata": {},
   "source": [
    "- Create markdown cells\n",
    "- How to provide comment in the cell\n",
    "- list of well known data science tools\n",
    "- How create table\n",
    "- How to use heading style"
   ]
  },
  {
   "cell_type": "markdown",
   "id": "7870c309-a695-4ec9-a70e-77fc6364c2b2",
   "metadata": {},
   "source": [
    "Exercise 11 - Create a markdown cell to indicate the Author's name"
   ]
  },
  {
   "cell_type": "markdown",
   "id": "5baff225-e5fb-4c56-bf86-11ceacafeb3e",
   "metadata": {},
   "source": [
    "## Author\n",
    "\n",
    "Sunil Patil"
   ]
  },
  {
   "cell_type": "code",
   "execution_count": null,
   "id": "21ef4dec-68ba-4e0e-9a25-ed4c55fb9026",
   "metadata": {},
   "outputs": [],
   "source": []
  }
 ],
 "metadata": {
  "kernelspec": {
   "display_name": "Python 3 (ipykernel)",
   "language": "python",
   "name": "python3"
  },
  "language_info": {
   "codemirror_mode": {
    "name": "ipython",
    "version": 3
   },
   "file_extension": ".py",
   "mimetype": "text/x-python",
   "name": "python",
   "nbconvert_exporter": "python",
   "pygments_lexer": "ipython3",
   "version": "3.11.7"
  }
 },
 "nbformat": 4,
 "nbformat_minor": 5
}
